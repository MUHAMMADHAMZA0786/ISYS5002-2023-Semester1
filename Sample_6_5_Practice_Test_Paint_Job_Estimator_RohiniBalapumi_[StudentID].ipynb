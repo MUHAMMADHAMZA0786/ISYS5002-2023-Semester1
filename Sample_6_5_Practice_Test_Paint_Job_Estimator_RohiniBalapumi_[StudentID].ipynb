{
  "nbformat": 4,
  "nbformat_minor": 0,
  "metadata": {
    "colab": {
      "provenance": [],
      "authorship_tag": "ABX9TyOxZ2pSsG83Kh4cI2hTCGRq",
      "include_colab_link": true
    },
    "kernelspec": {
      "name": "python3",
      "display_name": "Python 3"
    },
    "language_info": {
      "name": "python"
    }
  },
  "cells": [
    {
      "cell_type": "markdown",
      "metadata": {
        "id": "view-in-github",
        "colab_type": "text"
      },
      "source": [
        "<a href=\"https://colab.research.google.com/github/isys5002-itp/ISYS5002-2023-Semester1/blob/main/Sample_6_5_Practice_Test_Paint_Job_Estimator_RohiniBalapumi_%5BStudentID%5D.ipynb\" target=\"_parent\"><img src=\"https://colab.research.google.com/assets/colab-badge.svg\" alt=\"Open In Colab\"/></a>"
      ]
    },
    {
      "cell_type": "markdown",
      "source": [
        "# Paint Job Estimator\n",
        "\n",
        "## Problem Statement\n",
        "\n",
        "A painting company has determined that for every 112 square feet of wall space, one gallon of paint and eight hours of labor will be required. The company charges $35.00 per hour for labor. Write a program that asks the user to enter the square feet of wall space to be painted and the price of the paint per gallon. The program should display the following data:\n",
        "\n",
        "* The number of gallons of paint required\n",
        "* The hours of labor required\n",
        "* The cost of the paint\n",
        "* The labor charges\n",
        "* The total cost of the paint job\n",
        "\n",
        "### Instructions\n",
        "\n",
        "Following the six-steps problem solving methodology, Design and implement the solution following good programming practices, such as modularising code, validating inputs, handling errors properly, and adhering to the PEP8 style guide.\n",
        "\n",
        "Adhering to PEP8 standards:\n",
        "* programming style naming conventions used in the PEP8, which include:\n",
        "  * Meaningful names for project, variable, methods, and controls.\n",
        "  * Correct capitalisation of variables and methods\n",
        "* Appropriate use of comments\n",
        "* Reference any relevant forums, websites, videos that you used.\n",
        "* Use of space and indentation to program is easy to read."
      ],
      "metadata": {
        "id": "v7olaSocMd5C"
      }
    },
    {
      "cell_type": "markdown",
      "source": [
        "### Sample output:\n",
        "\n",
        "\n",
        "\n"
      ],
      "metadata": {
        "id": "XQnEs1LQRn06"
      }
    },
    {
      "cell_type": "markdown",
      "source": [
        "\n",
        "Sample output 1:\n",
        "```\n",
        "Enter the square feet of wall space to be painted: 1800\n",
        "Enter the price of paint per gallon: 18.5\n",
        "\n",
        "Number of gallons of paint required: 16.07\n",
        "Hours of labor required: 128.57\n",
        "Cost of the paint: $297.45\n",
        "Labor charges: $4499.95\n",
        "Total cost of the paint job: $4797.40\n",
        "```\n",
        "\n",
        "Sample output 2:\n",
        "```\n",
        "Enter the square feet of wall space to be painted: 1000\n",
        "Enter the price of paint per gallon: 25.50\n",
        "\n",
        "Number of gallons of paint required: 8.93\n",
        "Hours of labor required: 71.43\n",
        "Cost of the paint: $227.68\n",
        "Labor charges: $2500.00\n",
        "Total cost of the paint job: $2727.68\n",
        "```"
      ],
      "metadata": {
        "id": "RD3HwyY1XCmG"
      }
    },
    {
      "cell_type": "markdown",
      "source": [
        "### Test your program with some valid and invalid cases"
      ],
      "metadata": {
        "id": "Sdy8NRHrWJ0u"
      }
    },
    {
      "cell_type": "code",
      "source": [],
      "metadata": {
        "id": "ekCKmlCzWdaj"
      },
      "execution_count": null,
      "outputs": []
    },
    {
      "cell_type": "markdown",
      "source": [
        "### Modify the program so it print results and write results to a file."
      ],
      "metadata": {
        "id": "vw_BIIeeNsCl"
      }
    },
    {
      "cell_type": "code",
      "source": [],
      "metadata": {
        "id": "-mBD-_ApTLSD"
      },
      "execution_count": null,
      "outputs": []
    },
    {
      "cell_type": "code",
      "source": [
        "# Prompt the user for input\n",
        "square_feet = int(input(\"Enter the square feet of wall space to be painted: \"))\n",
        "paint_price = float(input(\"Enter the price per gallon of paint: \"))\n",
        "\n",
        "# Calculate necessary values\n",
        "gallons_of_paint = square_feet / 112\n",
        "hours_of_labor = gallons_of_paint * 8\n",
        "cost_of_paint = gallons_of_paint * paint_price\n",
        "labor_charges = hours_of_labor * 35\n",
        "total_cost = cost_of_paint + labor_charges\n",
        "\n",
        "# Display the results\n",
        "print(f\"Gallons of paint required: {gallons_of_paint:.2f}\")\n",
        "print(f\"Hours of labor required: {hours_of_labor:.2f}\")\n",
        "print(f\"Cost of paint: ${cost_of_paint:.2f}\")\n",
        "print(f\"Labor charges: ${labor_charges:.2f}\")\n",
        "print(f\"Total cost of the paint job: ${total_cost:.2f}\")"
      ],
      "metadata": {
        "id": "ZylpWmsNi8rn"
      },
      "execution_count": null,
      "outputs": []
    },
    {
      "cell_type": "code",
      "source": [
        "!pip install pyinputplus"
      ],
      "metadata": {
        "id": "hNTa5LOOju5-"
      },
      "execution_count": null,
      "outputs": []
    },
    {
      "cell_type": "code",
      "source": [
        "import pyinputplus as pyip\n",
        "\n",
        "while True:\n",
        "    response = pyip.inputYesNo('Do you want to continue? (yes/no): ')\n",
        "    if response == 'no':\n",
        "        break"
      ],
      "metadata": {
        "id": "f0SDmnWVjdtL"
      },
      "execution_count": null,
      "outputs": []
    },
    {
      "cell_type": "code",
      "source": [
        "# Create a list to store the results\n",
        "results = ['Square Feet', 'Paint Price', 'Gallons of Paint', 'Cost of Paint', 'Labor Charges', 'Total Cost']\n",
        "with open(\"sales.csv\", 'w')  as sales:\n",
        "  writer = csv.writer(sales)\n",
        "  writer.writerow(results)"
      ],
      "metadata": {
        "id": "YiOlKh2Xp6z_"
      },
      "execution_count": null,
      "outputs": []
    },
    {
      "cell_type": "code",
      "source": [
        "import pyinputplus as pyip\n",
        "import pandas as pd\n",
        "import csv\n",
        "\n",
        "while True:\n",
        "\n",
        "  # Prompt the user for input\n",
        "  square_feet = int(input(\"Enter the square feet of wall space to be painted: \"))\n",
        "  paint_price = float(input(\"Enter the price per gallon of paint: \"))\n",
        "\n",
        "  def calculate_paint(square_feet, paint_price):\n",
        "      gallons_of_paint = square_feet / 112\n",
        "      paint_cost = gallons_of_paint * paint_price\n",
        "      return gallons_of_paint, paint_cost\n",
        "\n",
        "  def calculate_labor(gallons_of_paint):\n",
        "      hours_of_labor = gallons_of_paint * 8\n",
        "      labor_charges = hours_of_labor * 35\n",
        "      return (labor_charges)\n",
        "\n",
        "  # Calculate number of gallons of paint required\n",
        "  gallons_of_paint, paint_cost = calculate_paint(square_feet, paint_price)\n",
        "\n",
        "  # Calculate hours of labor and labor charges\n",
        "  labor_charges = calculate_labor(gallons_of_paint)\n",
        "\n",
        "  # Calculate total cost of paint job\n",
        "  total_cost = paint_cost + labor_charges\n",
        "\n",
        "  # Display the results\n",
        "  print(f\"Gallons of paint required: {gallons_of_paint:.2f}\")\n",
        "  print(f\"Hours of labor required: {hours_of_labor:.2f}\")\n",
        "  print(f\"Cost of paint: ${cost_of_paint:.2f}\")\n",
        "  print(f\"Labor charges: ${labor_charges:.2f}\")\n",
        "  print(f\"Total cost of the paint job: ${total_cost:.2f}\")\n",
        "    \n",
        "  input_data = [square_feet, paint_price, gallons_of_paint, paint_cost, labor_charges, total_cost]\n",
        "\n",
        "  with open(\"sales.csv\", 'a')  as sales:\n",
        "    writer = csv.writer(sales)\n",
        "    writer.writerow(input_data)\n",
        "      \n",
        "  response = pyip.inputYesNo('Do you want to continue? (yes/no): ')\n",
        "\n",
        "  if response == 'no':\n",
        "    break"
      ],
      "metadata": {
        "colab": {
          "base_uri": "https://localhost:8080/"
        },
        "id": "0VUVQZ24jgzi",
        "outputId": "3b5aa89b-acfc-4f75-92f1-600f66cbfb9c"
      },
      "execution_count": null,
      "outputs": [
        {
          "name": "stdout",
          "output_type": "stream",
          "text": [
            "Enter the square feet of wall space to be painted: 1000\n",
            "Enter the price per gallon of paint: 15\n",
            "Gallons of paint required: 8.93\n",
            "Hours of labor required: 88.93\n",
            "Cost of paint: $166.74\n",
            "Labor charges: $2500.00\n",
            "Total cost of the paint job: $2633.93\n",
            "Do you want to continue? (yes/no): y\n",
            "Enter the square feet of wall space to be painted: 2500\n",
            "Enter the price per gallon of paint: 20\n",
            "Gallons of paint required: 22.32\n",
            "Hours of labor required: 88.93\n",
            "Cost of paint: $166.74\n",
            "Labor charges: $6250.00\n",
            "Total cost of the paint job: $6696.43\n",
            "Do you want to continue? (yes/no): y\n",
            "Enter the square feet of wall space to be painted: 3520\n",
            "Enter the price per gallon of paint: 30\n",
            "Gallons of paint required: 31.43\n",
            "Hours of labor required: 88.93\n",
            "Cost of paint: $166.74\n",
            "Labor charges: $8800.00\n",
            "Total cost of the paint job: $9742.86\n",
            "Do you want to continue? (yes/no): n\n"
          ]
        }
      ]
    },
    {
      "cell_type": "code",
      "source": [
        "import pandas as pd\n",
        "df = pd.read_csv('sales.csv')\n",
        "df\n"
      ],
      "metadata": {
        "colab": {
          "base_uri": "https://localhost:8080/",
          "height": 143
        },
        "id": "UKo94V-Yp1hD",
        "outputId": "fcba864b-e951-4f91-971b-90a9d506f98f"
      },
      "execution_count": null,
      "outputs": [
        {
          "output_type": "execute_result",
          "data": {
            "text/plain": [
              "   Square Feet  Paint Price  Gallons of Paint  Cost of Paint  Labor Charges  \\\n",
              "0         1000         15.0          8.928571     133.928571         2500.0   \n",
              "1         2500         20.0         22.321429     446.428571         6250.0   \n",
              "2         3520         30.0         31.428571     942.857143         8800.0   \n",
              "\n",
              "    Total Cost  \n",
              "0  2633.928571  \n",
              "1  6696.428571  \n",
              "2  9742.857143  "
            ],
            "text/html": [
              "\n",
              "  <div id=\"df-b3a37eab-afdc-4ece-977d-ce589f1e1346\">\n",
              "    <div class=\"colab-df-container\">\n",
              "      <div>\n",
              "<style scoped>\n",
              "    .dataframe tbody tr th:only-of-type {\n",
              "        vertical-align: middle;\n",
              "    }\n",
              "\n",
              "    .dataframe tbody tr th {\n",
              "        vertical-align: top;\n",
              "    }\n",
              "\n",
              "    .dataframe thead th {\n",
              "        text-align: right;\n",
              "    }\n",
              "</style>\n",
              "<table border=\"1\" class=\"dataframe\">\n",
              "  <thead>\n",
              "    <tr style=\"text-align: right;\">\n",
              "      <th></th>\n",
              "      <th>Square Feet</th>\n",
              "      <th>Paint Price</th>\n",
              "      <th>Gallons of Paint</th>\n",
              "      <th>Cost of Paint</th>\n",
              "      <th>Labor Charges</th>\n",
              "      <th>Total Cost</th>\n",
              "    </tr>\n",
              "  </thead>\n",
              "  <tbody>\n",
              "    <tr>\n",
              "      <th>0</th>\n",
              "      <td>1000</td>\n",
              "      <td>15.0</td>\n",
              "      <td>8.928571</td>\n",
              "      <td>133.928571</td>\n",
              "      <td>2500.0</td>\n",
              "      <td>2633.928571</td>\n",
              "    </tr>\n",
              "    <tr>\n",
              "      <th>1</th>\n",
              "      <td>2500</td>\n",
              "      <td>20.0</td>\n",
              "      <td>22.321429</td>\n",
              "      <td>446.428571</td>\n",
              "      <td>6250.0</td>\n",
              "      <td>6696.428571</td>\n",
              "    </tr>\n",
              "    <tr>\n",
              "      <th>2</th>\n",
              "      <td>3520</td>\n",
              "      <td>30.0</td>\n",
              "      <td>31.428571</td>\n",
              "      <td>942.857143</td>\n",
              "      <td>8800.0</td>\n",
              "      <td>9742.857143</td>\n",
              "    </tr>\n",
              "  </tbody>\n",
              "</table>\n",
              "</div>\n",
              "      <button class=\"colab-df-convert\" onclick=\"convertToInteractive('df-b3a37eab-afdc-4ece-977d-ce589f1e1346')\"\n",
              "              title=\"Convert this dataframe to an interactive table.\"\n",
              "              style=\"display:none;\">\n",
              "        \n",
              "  <svg xmlns=\"http://www.w3.org/2000/svg\" height=\"24px\"viewBox=\"0 0 24 24\"\n",
              "       width=\"24px\">\n",
              "    <path d=\"M0 0h24v24H0V0z\" fill=\"none\"/>\n",
              "    <path d=\"M18.56 5.44l.94 2.06.94-2.06 2.06-.94-2.06-.94-.94-2.06-.94 2.06-2.06.94zm-11 1L8.5 8.5l.94-2.06 2.06-.94-2.06-.94L8.5 2.5l-.94 2.06-2.06.94zm10 10l.94 2.06.94-2.06 2.06-.94-2.06-.94-.94-2.06-.94 2.06-2.06.94z\"/><path d=\"M17.41 7.96l-1.37-1.37c-.4-.4-.92-.59-1.43-.59-.52 0-1.04.2-1.43.59L10.3 9.45l-7.72 7.72c-.78.78-.78 2.05 0 2.83L4 21.41c.39.39.9.59 1.41.59.51 0 1.02-.2 1.41-.59l7.78-7.78 2.81-2.81c.8-.78.8-2.07 0-2.86zM5.41 20L4 18.59l7.72-7.72 1.47 1.35L5.41 20z\"/>\n",
              "  </svg>\n",
              "      </button>\n",
              "      \n",
              "  <style>\n",
              "    .colab-df-container {\n",
              "      display:flex;\n",
              "      flex-wrap:wrap;\n",
              "      gap: 12px;\n",
              "    }\n",
              "\n",
              "    .colab-df-convert {\n",
              "      background-color: #E8F0FE;\n",
              "      border: none;\n",
              "      border-radius: 50%;\n",
              "      cursor: pointer;\n",
              "      display: none;\n",
              "      fill: #1967D2;\n",
              "      height: 32px;\n",
              "      padding: 0 0 0 0;\n",
              "      width: 32px;\n",
              "    }\n",
              "\n",
              "    .colab-df-convert:hover {\n",
              "      background-color: #E2EBFA;\n",
              "      box-shadow: 0px 1px 2px rgba(60, 64, 67, 0.3), 0px 1px 3px 1px rgba(60, 64, 67, 0.15);\n",
              "      fill: #174EA6;\n",
              "    }\n",
              "\n",
              "    [theme=dark] .colab-df-convert {\n",
              "      background-color: #3B4455;\n",
              "      fill: #D2E3FC;\n",
              "    }\n",
              "\n",
              "    [theme=dark] .colab-df-convert:hover {\n",
              "      background-color: #434B5C;\n",
              "      box-shadow: 0px 1px 3px 1px rgba(0, 0, 0, 0.15);\n",
              "      filter: drop-shadow(0px 1px 2px rgba(0, 0, 0, 0.3));\n",
              "      fill: #FFFFFF;\n",
              "    }\n",
              "  </style>\n",
              "\n",
              "      <script>\n",
              "        const buttonEl =\n",
              "          document.querySelector('#df-b3a37eab-afdc-4ece-977d-ce589f1e1346 button.colab-df-convert');\n",
              "        buttonEl.style.display =\n",
              "          google.colab.kernel.accessAllowed ? 'block' : 'none';\n",
              "\n",
              "        async function convertToInteractive(key) {\n",
              "          const element = document.querySelector('#df-b3a37eab-afdc-4ece-977d-ce589f1e1346');\n",
              "          const dataTable =\n",
              "            await google.colab.kernel.invokeFunction('convertToInteractive',\n",
              "                                                     [key], {});\n",
              "          if (!dataTable) return;\n",
              "\n",
              "          const docLinkHtml = 'Like what you see? Visit the ' +\n",
              "            '<a target=\"_blank\" href=https://colab.research.google.com/notebooks/data_table.ipynb>data table notebook</a>'\n",
              "            + ' to learn more about interactive tables.';\n",
              "          element.innerHTML = '';\n",
              "          dataTable['output_type'] = 'display_data';\n",
              "          await google.colab.output.renderOutput(dataTable, element);\n",
              "          const docLink = document.createElement('div');\n",
              "          docLink.innerHTML = docLinkHtml;\n",
              "          element.appendChild(docLink);\n",
              "        }\n",
              "      </script>\n",
              "    </div>\n",
              "  </div>\n",
              "  "
            ]
          },
          "metadata": {},
          "execution_count": 16
        }
      ]
    },
    {
      "cell_type": "code",
      "source": [
        "import matplotlib.pyplot as plt\n",
        "import pandas as pd\n",
        "\n",
        "# Read data from CSV file\n",
        "df = pd.read_csv('sales.csv')\n",
        "\n",
        "# Extract square feet and labor charges columns\n",
        "square_feet = df['Square Feet']\n",
        "labor_charges = df['Labor Charges']\n",
        "\n",
        "# Create plot\n",
        "plt.plot(square_feet, labor_charges)\n",
        "plt.title('Square Feet vs. Labor Charges')\n",
        "plt.xlabel('Square Feet')\n",
        "plt.ylabel('Labor Charges')\n",
        "plt.show()"
      ],
      "metadata": {
        "colab": {
          "base_uri": "https://localhost:8080/",
          "height": 472
        },
        "id": "Vo16mjayi8k1",
        "outputId": "d2640b1a-2f7e-431e-c0ed-a68401763add"
      },
      "execution_count": null,
      "outputs": [
        {
          "output_type": "display_data",
          "data": {
            "text/plain": [
              "<Figure size 640x480 with 1 Axes>"
            ],
            "image/png": "[encoded data removed]"
          },
          "metadata": {}
        }
      ]
    },
    {
      "cell_type": "markdown",
      "source": [
        "### Plot a graph to visualise the result\n",
        "\n",
        "For example:\n",
        "* Bar chart of cost breakdown: Create a bar chart that shows the breakdown of costs for a given paint job. The chart could have two bars: one for the cost of the paint and one for the labor charges. This would help visualize how much each component of the job contributes to the overall cost.\n",
        "\n",
        "* Line chart of paint cost over time: Create a line chart that shows how the cost of paint changes over time. This could help you see trends and fluctuations in paint prices.\n"
      ],
      "metadata": {
        "id": "NmDIwHQ3T_bU"
      }
    },
    {
      "cell_type": "code",
      "source": [],
      "metadata": {
        "id": "16TiKLbnViVN"
      },
      "execution_count": null,
      "outputs": []
    }
  ]
}