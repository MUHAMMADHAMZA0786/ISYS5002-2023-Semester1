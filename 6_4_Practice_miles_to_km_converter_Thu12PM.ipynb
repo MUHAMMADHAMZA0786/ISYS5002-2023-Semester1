{
  "nbformat": 4,
  "nbformat_minor": 0,
  "metadata": {
    "colab": {
      "provenance": [],
      "authorship_tag": "ABX9TyMahei0Mz8q2xAqYG9Ty5/L",
      "include_colab_link": true
    },
    "kernelspec": {
      "name": "python3",
      "display_name": "Python 3"
    },
    "language_info": {
      "name": "python"
    }
  },
  "cells": [
    {
      "cell_type": "markdown",
      "metadata": {
        "id": "view-in-github",
        "colab_type": "text"
      },
      "source": [
        "<a href=\"https://colab.research.google.com/github/isys5002-itp/ISYS5002-2023-Semester1/blob/main/6_4_Practice_miles_to_km_converter_Thu12PM.ipynb\" target=\"_parent\"><img src=\"https://colab.research.google.com/assets/colab-badge.svg\" alt=\"Open In Colab\"/></a>"
      ]
    },
    {
      "cell_type": "markdown",
      "source": [],
      "metadata": {
        "id": "GYDDm8eqE66Z"
      }
    },
    {
      "cell_type": "markdown",
      "source": [
        "## Problem Statement:\n",
        "\n",
        "### Simple version\n",
        "The run tracker program is designed to help users keep track of their runs. Users can enter the date, distance in miles, and time in minutes for each run they complete. The program then automatically converts the distance in miles to kilometers and calculates the speed in kilometers per hour using the conversion formula 1 mile = 1.60934 kilometers. The speed calculates as distance/time.\n",
        "\n",
        "### Extended version:\n",
        "The run tracker program is designed to help users keep track of their runs. Users can enter the date, distance in miles, and time in minutes for each run they complete. The program then automatically converts the distance in miles to kilometers and calculates the speed in kilometers per hour using the conversion formula 1 mile = 1.60934 kilometers. The information, including all input values and the calculated speed, is then saved to a CSV file named 'run.csv' for later analysis or tracking.\n",
        "\n",
        "The program is user-friendly and interactive. It prompts the user to enter the required information and provides clear feedback, including a confirmation message with the values entered by the user and the calculated speed. The program also allows the user to decide whether to continue entering more runs or terminate the program.\n",
        "\n",
        "Overall, the run tracker program is a useful tool for individuals who want to monitor their running progress over time and make data-driven decisions about their training."
      ],
      "metadata": {
        "id": "x9jojthsPxBn"
      }
    },
    {
      "cell_type": "markdown",
      "source": [
        "Following the **six-steps problem solving methodology**,<br>\n",
        "**Design and implement** the solution following good programming practices, such as modularising code, validating inputs, handling errors properly, and adhering to the PEP8 style guide.\n",
        "\n",
        "Adhering to PEP8 standards including:\n",
        "* the programming style naming conventions used in the PEP8, which include:\n",
        "* Meaningful names for project, variable, methods, and controls.\n",
        "* Correct capatlisation of variables and methods\n",
        "* Appropriate use of comments\n",
        "* Reference any relevant forums, websites, videos that you used.\n",
        "* Use of space and indentation to program is easy to read."
      ],
      "metadata": {
        "id": "NMyr0sRXzj4D"
      }
    },
    {
      "cell_type": "markdown",
      "source": [
        "Sample input/output:\n",
        "\n",
        "```\n",
        "Enter distance in miles: 10.5\n",
        "10.5 miles is equal to 16.898104 kilometers.\n",
        "\n",
        "Enter distance in miles: 0\n",
        "0.0 miles is equal to 0.0 kilometers.\n",
        "\n",
        "Enter distance in miles: -5\n",
        "Error: Distance cannot be negative.\n",
        "\n",
        "Enter distance in miles: abc\n",
        "Error: Invalid input. Distance must be a number.\n",
        "```\n",
        "\n"
      ],
      "metadata": {
        "id": "81iAFJucQEvQ"
      }
    },
    {
      "cell_type": "markdown",
      "source": [
        "## Step 1: Identify the problem - state the problem requirement clearly\n",
        "\n",
        "* Get input date, distance in miles, and time in minutes from user and \n",
        "* converts the distance in miles to kilometers \n",
        "> conversion formula 1 mile = 1.60934 kilometers. \n",
        "* calculates the speed in kilometers per hour \n",
        "> speed = distance (km)/time\n",
        "* saved to a CSV file named 'run.csv' and plot graph day and distance in km\n",
        "\n",
        "\n",
        "## Step 2: Identify Inputs and Outputs\n",
        "**Inputs**\n",
        "* date\n",
        "* distance in miles\n",
        "* time in minutes\n",
        "\n",
        "**Outputs**\n",
        "* distance in miles converted to km\n",
        "* calcuates speed km/hour\n"
      ],
      "metadata": {
        "id": "0xm0ZwrPFb5H"
      }
    },
    {
      "cell_type": "markdown",
      "source": [
        "\n",
        "## Step 3: Worked Example by hand\n",
        "*inputs*\n",
        "* date: 20-04-2023\n",
        "* distance: 10 miles\n",
        "* time_mins: 40 minutes\n",
        "\n",
        "Calculation:\n",
        "* distance in miles converted to km \n",
        "  > distance_km  = distance_miles * 1.60934\n",
        "\n",
        "  > = 10 * 1.60934 = 16.0934 km\n",
        "\n",
        "* calculates speed km/hour\n",
        "  > distance_km/(time_mins/60)\n",
        "\n",
        "  > 16.0934 / (40/60) => speed is 24.1401 km/hr\n",
        "\n",
        "\n",
        "## Step 4: Steps - Algorithm\n",
        "\n",
        "* get user input date\n",
        "* get user input distance\n",
        "* get user input time_mins\n",
        "\n",
        "* convert distance to km by using distance_km  = distance_miles * 1.60934\n",
        "* calculates speed km/hour bu using distance_km/(time_mins/60)\n",
        "  \n",
        "* display distance in km\n",
        "* display the speed in km/hr\n",
        "\n",
        "* save date, distance_miles, time_mins, distance_km, speed into run.csv file\n",
        "\n",
        "* plot graph distance_km and time_mins\n",
        "\n",
        "## Step 5: convert to Python code"
      ],
      "metadata": {
        "id": "UZa7l013G5F9"
      }
    },
    {
      "cell_type": "code",
      "source": [
        "date = input(\"Please enter the date: \")\n",
        "distance_miles = float(input(\"Please enter distance in miles: \"))\n",
        "time_mins = float(input(\"Please enter time in minutes: \"))\n",
        "\n",
        "distance_km  = distance_miles * 1.60934\n",
        "speed = distance_km/(time_mins/60)\n",
        "  \n",
        "print(f\"\\nDistance in miles: {distance_miles} and Time in minuites is {time_mins}\") \n",
        "print(f\"\\nDistance in km: {distance_km}km \\nSpeed is {speed}km/hr\") \n"
      ],
      "metadata": {
        "colab": {
          "base_uri": "https://localhost:8080/"
        },
        "id": "DlFs17F_HsMH",
        "outputId": "2bf622ed-a6a1-49ac-edec-e7d41b7b056e"
      },
      "execution_count": 5,
      "outputs": [
        {
          "output_type": "stream",
          "name": "stdout",
          "text": [
            "Please enter the date: 10\n",
            "Please enter distance in miles: 40\n",
            "Please enter time in minutes: 120\n",
            "\n",
            "Distance in miles: 40.0 and Time in minuites is 120.0\n",
            "\n",
            "Distance in km: 64.3736km \n",
            "Speed is 32.1868km/hr\n"
          ]
        }
      ]
    },
    {
      "cell_type": "markdown",
      "source": [
        "**input validation**"
      ],
      "metadata": {
        "id": "Zq36tIGGLTk5"
      }
    },
    {
      "cell_type": "code",
      "source": [
        "try: \n",
        "  date = input(\"Please enter the date: \")\n",
        "except:\n",
        "  print(\"Please enter date in format dd/mm/yyyy\")\n",
        "\n",
        "try:\n",
        "  distance_miles = float(input(\"Please enter distance in miles: \"))\n",
        "except: \n",
        "  print(\"Invalide input. Please enter a numeric value for distance\")\n",
        "\n",
        "try:\n",
        "  time_mins = float(input(\"Please enter time in minutes: \"))\n",
        "except:\n",
        "  print(\"Invalide input. Please enter a numeric value for time\")\n",
        "\n",
        "\n",
        "distance_km  = distance_miles * 1.60934\n",
        "speed = distance_km/(time_mins/60)\n",
        "  \n",
        "print(f\"\\nDistance in miles: {distance_miles} and Time in minuites is {time_mins}\") \n",
        "print(f\"\\nDistance in km: {distance_km}km \\nSpeed is {speed}km/hr\") "
      ],
      "metadata": {
        "id": "QMtwXE2H3pn-",
        "colab": {
          "base_uri": "https://localhost:8080/"
        },
        "outputId": "b0718497-0b8c-4bd9-f6ea-7e53b3335cbd"
      },
      "execution_count": 8,
      "outputs": [
        {
          "output_type": "stream",
          "name": "stdout",
          "text": [
            "Please enter the date: 10\n",
            "Please enter distance in miles: we\n",
            "Invalide input. Please enter a numeric value for distance\n",
            "Please enter time in minutes: 12\n",
            "\n",
            "Distance in miles: 40.0 and Time in minuites is 12.0\n",
            "\n",
            "Distance in km: 64.3736km \n",
            "Speed is 321.86799999999994km/hr\n"
          ]
        }
      ]
    },
    {
      "cell_type": "markdown",
      "source": [
        "**modularise using functions**\n"
      ],
      "metadata": {
        "id": "OeWaICqdMij5"
      }
    },
    {
      "cell_type": "code",
      "source": [
        "def getuserinput():\n",
        "  try: \n",
        "    date = input(\"Please enter the date: \")\n",
        "  except:\n",
        "    print(\"Please enter date in format dd/mm/yyyy\")\n",
        "\n",
        "  try:\n",
        "    distance_miles = float(input(\"Please enter distance in miles: \"))\n",
        "  except: \n",
        "    print(\"Invalide input. Please enter a numeric value for distance\")\n",
        "\n",
        "  try:\n",
        "    time_mins = float(input(\"Please enter time in minutes: \"))\n",
        "  except:\n",
        "    print(\"Invalide input. Please enter a numeric value for time\")\n",
        "\n",
        "  return distance_miles, time_mins\n",
        "\n",
        "def calculate_distancekm_speed(distance_miles, time_mins):\n",
        "  distance_km  = distance_miles * 1.60934\n",
        "  speed = distance_km/(time_mins/60)\n",
        "\n",
        "  return distance_km, speed\n",
        "  \n"
      ],
      "metadata": {
        "id": "OY8qn_vvMh_8"
      },
      "execution_count": 9,
      "outputs": []
    },
    {
      "cell_type": "code",
      "source": [
        "distance_miles, time_mins = getuserinput()\n",
        "distance_km, speed = calculate_distancekm_speed(distance_miles, time_mins)\n",
        "\n",
        "print(f\"\\nDistance in miles: {distance_miles} and Time in minuites is {time_mins}\") \n",
        "print(f\"\\nDistance in km: {distance_km}km \\nSpeed is {speed}km/hr\") "
      ],
      "metadata": {
        "id": "SikFWznPRJuF",
        "colab": {
          "base_uri": "https://localhost:8080/"
        },
        "outputId": "f9c68ad5-b88b-4ecf-bd73-c924fd21306e"
      },
      "execution_count": 10,
      "outputs": [
        {
          "output_type": "stream",
          "name": "stdout",
          "text": [
            "Please enter the date: 20-04-2023\n",
            "Please enter distance in miles: 10\n",
            "Please enter time in minutes: 40\n",
            "\n",
            "Distance in miles: 10.0 and Time in minuites is 40.0\n",
            "\n",
            "Distance in km: 16.0934km \n",
            "Speed is 24.1401km/hr\n"
          ]
        }
      ]
    },
    {
      "cell_type": "markdown",
      "source": [
        "### Test your program with some valid and invalid cases"
      ],
      "metadata": {
        "id": "Sdy8NRHrWJ0u"
      }
    },
    {
      "cell_type": "code",
      "source": [],
      "metadata": {
        "id": "ekCKmlCzWdaj"
      },
      "execution_count": null,
      "outputs": []
    },
    {
      "cell_type": "markdown",
      "source": [
        "### Optional: Modify the program so it print results and write results to a file."
      ],
      "metadata": {
        "id": "vw_BIIeeNsCl"
      }
    },
    {
      "cell_type": "code",
      "source": [],
      "metadata": {
        "id": "-mBD-_ApTLSD"
      },
      "execution_count": null,
      "outputs": []
    },
    {
      "cell_type": "markdown",
      "source": [
        "### Optional: Plot a graph to visualise the result\n",
        "\n",
        "\n"
      ],
      "metadata": {
        "id": "NmDIwHQ3T_bU"
      }
    }
  ]
}